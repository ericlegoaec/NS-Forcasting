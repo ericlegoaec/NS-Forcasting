{
 "cells": [
  {
   "cell_type": "code",
   "execution_count": 7,
   "metadata": {},
   "outputs": [],
   "source": [
    "import numpy as np\n",
    "import pandas as pd\n",
    "import NelsonSiegelFunctions as nsf\n",
    "from sklearn import datasets, linear_model\n",
    "\n",
    "import pylab\n",
    "import matplotlib.pyplot as plt\n",
    "from scipy.optimize import fmin, minimize\n",
    "from scipy.stats import skew, kurtosis"
   ]
  },
  {
   "cell_type": "code",
   "execution_count": 3,
   "metadata": {},
   "outputs": [
    {
     "data": {
      "text/html": [
       "<div>\n",
       "<style scoped>\n",
       "    .dataframe tbody tr th:only-of-type {\n",
       "        vertical-align: middle;\n",
       "    }\n",
       "\n",
       "    .dataframe tbody tr th {\n",
       "        vertical-align: top;\n",
       "    }\n",
       "\n",
       "    .dataframe thead th {\n",
       "        text-align: right;\n",
       "    }\n",
       "</style>\n",
       "<table border=\"1\" class=\"dataframe\">\n",
       "  <thead>\n",
       "    <tr style=\"text-align: right;\">\n",
       "      <th></th>\n",
       "      <th>3</th>\n",
       "      <th>6</th>\n",
       "      <th>12</th>\n",
       "      <th>24</th>\n",
       "      <th>36</th>\n",
       "      <th>60</th>\n",
       "      <th>84</th>\n",
       "      <th>120</th>\n",
       "      <th>180</th>\n",
       "      <th>240</th>\n",
       "      <th>300</th>\n",
       "      <th>360</th>\n",
       "    </tr>\n",
       "  </thead>\n",
       "  <tbody>\n",
       "    <tr>\n",
       "      <th>2016-01-04</th>\n",
       "      <td>2.475</td>\n",
       "      <td>2.509</td>\n",
       "      <td>2.587</td>\n",
       "      <td>2.913</td>\n",
       "      <td>3.280</td>\n",
       "      <td>3.532</td>\n",
       "      <td>4.222</td>\n",
       "      <td>4.262</td>\n",
       "      <td>4.754</td>\n",
       "      <td>4.834</td>\n",
       "      <td>4.997</td>\n",
       "      <td>5.198</td>\n",
       "    </tr>\n",
       "    <tr>\n",
       "      <th>2016-01-05</th>\n",
       "      <td>2.469</td>\n",
       "      <td>2.503</td>\n",
       "      <td>2.580</td>\n",
       "      <td>2.916</td>\n",
       "      <td>3.295</td>\n",
       "      <td>3.512</td>\n",
       "      <td>4.180</td>\n",
       "      <td>4.275</td>\n",
       "      <td>4.765</td>\n",
       "      <td>4.846</td>\n",
       "      <td>5.010</td>\n",
       "      <td>5.214</td>\n",
       "    </tr>\n",
       "    <tr>\n",
       "      <th>2016-01-06</th>\n",
       "      <td>2.482</td>\n",
       "      <td>2.516</td>\n",
       "      <td>2.594</td>\n",
       "      <td>2.945</td>\n",
       "      <td>3.340</td>\n",
       "      <td>3.577</td>\n",
       "      <td>4.192</td>\n",
       "      <td>4.299</td>\n",
       "      <td>4.753</td>\n",
       "      <td>4.797</td>\n",
       "      <td>4.914</td>\n",
       "      <td>5.061</td>\n",
       "    </tr>\n",
       "    <tr>\n",
       "      <th>2016-01-07</th>\n",
       "      <td>2.543</td>\n",
       "      <td>2.577</td>\n",
       "      <td>2.656</td>\n",
       "      <td>2.986</td>\n",
       "      <td>3.357</td>\n",
       "      <td>3.592</td>\n",
       "      <td>4.189</td>\n",
       "      <td>4.304</td>\n",
       "      <td>4.758</td>\n",
       "      <td>4.801</td>\n",
       "      <td>4.919</td>\n",
       "      <td>5.068</td>\n",
       "    </tr>\n",
       "    <tr>\n",
       "      <th>2016-01-08</th>\n",
       "      <td>2.601</td>\n",
       "      <td>2.636</td>\n",
       "      <td>2.715</td>\n",
       "      <td>2.998</td>\n",
       "      <td>3.314</td>\n",
       "      <td>3.572</td>\n",
       "      <td>4.185</td>\n",
       "      <td>4.298</td>\n",
       "      <td>4.770</td>\n",
       "      <td>4.832</td>\n",
       "      <td>4.973</td>\n",
       "      <td>5.149</td>\n",
       "    </tr>\n",
       "  </tbody>\n",
       "</table>\n",
       "</div>"
      ],
      "text/plain": [
       "              3      6      12     24     36     60     84     120    180  \\\n",
       "2016-01-04  2.475  2.509  2.587  2.913  3.280  3.532  4.222  4.262  4.754   \n",
       "2016-01-05  2.469  2.503  2.580  2.916  3.295  3.512  4.180  4.275  4.765   \n",
       "2016-01-06  2.482  2.516  2.594  2.945  3.340  3.577  4.192  4.299  4.753   \n",
       "2016-01-07  2.543  2.577  2.656  2.986  3.357  3.592  4.189  4.304  4.758   \n",
       "2016-01-08  2.601  2.636  2.715  2.998  3.314  3.572  4.185  4.298  4.770   \n",
       "\n",
       "              240    300    360  \n",
       "2016-01-04  4.834  4.997  5.198  \n",
       "2016-01-05  4.846  5.010  5.214  \n",
       "2016-01-06  4.797  4.914  5.061  \n",
       "2016-01-07  4.801  4.919  5.068  \n",
       "2016-01-08  4.832  4.973  5.149  "
      ]
     },
     "execution_count": 3,
     "metadata": {},
     "output_type": "execute_result"
    }
   ],
   "source": [
    "df = pd.read_csv(\"2016 2018 BPAM Yield Matrix.csv\", index_col = 0)\n",
    "df.index = pd.to_datetime(df.index)\n",
    "df.columns = pd.to_numeric(df.columns.values)\n",
    "df.head()"
   ]
  },
  {
   "cell_type": "code",
   "execution_count": 5,
   "metadata": {},
   "outputs": [
    {
     "name": "stderr",
     "output_type": "stream",
     "text": [
      "C:\\Users\\shahmiraiman\\Documents\\Python Notebooks\\Nelson-Siegel Git\\NelsonSiegelFunctions.py:42: RuntimeWarning: overflow encountered in square\n",
      "  e = lambda p, x, y: ((fp(p,x)-y)**2).sum()\n",
      "C:\\Users\\shahmiraiman\\AppData\\Local\\Continuum\\anaconda3\\lib\\site-packages\\scipy\\optimize\\optimize.py:663: RuntimeWarning: invalid value encountered in double_scalars\n",
      "  grad[k] = (f(*((xk + d,) + args)) - f0) / d[k]\n",
      "C:\\Users\\shahmiraiman\\Documents\\Python Notebooks\\Nelson-Siegel Git\\NelsonSiegelFunctions.py:42: RuntimeWarning: overflow encountered in square\n",
      "  e = lambda p, x, y: ((fp(p,x)-y)**2).sum()\n"
     ]
    },
    {
     "data": {
      "text/plain": [
       "{3: 0.021975787846689562,\n",
       " 6: 0.011240997568443899,\n",
       " 12: 0.03465923035034419,\n",
       " 24: 0.02727852335785415,\n",
       " 36: 0.041830594977815654,\n",
       " 60: 0.055346941320116784,\n",
       " 84: 0.06954362001268795,\n",
       " 120: 0.10645714532605732,\n",
       " 180: 0.07090829947908205,\n",
       " 240: 0.07144846538183988,\n",
       " 300: 0.036684548576928606,\n",
       " 360: 0.050434320735290444}"
      ]
     },
     "execution_count": 5,
     "metadata": {},
     "output_type": "execute_result"
    }
   ],
   "source": [
    "df= df[df.index > np.datetime64(\"2016-01-01\")]\n",
    "daily_params = nsf.getNSSParams(df)\n",
    "daily_pred = nsf.getPred(df,daily_params)\n",
    "nsf.getPredMatError(df,daily_pred)"
   ]
  },
  {
   "cell_type": "code",
   "execution_count": 21,
   "metadata": {},
   "outputs": [],
   "source": [
    "regr = linear_model.LinearRegression()\n",
    "d1=daily_params.loc[0].values[1:-1]\n",
    "d0=daily_params.loc[0].values[0:-2]\n",
    "regr.fit(np.reshape(d0,(d0.size,1)),d1)\n",
    "error = regr.predict(np.reshape(d0,(d0.size,1)))-d1"
   ]
  },
  {
   "cell_type": "code",
   "execution_count": 22,
   "metadata": {},
   "outputs": [
    {
     "data": {
      "text/plain": [
       "[<matplotlib.lines.Line2D at 0xf000e10>]"
      ]
     },
     "execution_count": 22,
     "metadata": {},
     "output_type": "execute_result"
    },
    {
     "data": {
      "image/png": "[encoded data removed]",
      "text/plain": [
       "<Figure size 432x288 with 1 Axes>"
      ]
     },
     "metadata": {},
     "output_type": "display_data"
    }
   ],
   "source": [
    "plt.plot(regr.predict(np.reshape(d0,(d0.size,1))))"
   ]
  },
  {
   "cell_type": "code",
   "execution_count": 24,
   "metadata": {},
   "outputs": [
    {
     "data": {
      "text/plain": [
       "[<matplotlib.lines.Line2D at 0xf493ad0>]"
      ]
     },
     "execution_count": 24,
     "metadata": {},
     "output_type": "execute_result"
    },
    {
     "data": {
      "image/png": "[encoded data removed]",
      "text/plain": [
       "<Figure size 432x288 with 1 Axes>"
      ]
     },
     "metadata": {},
     "output_type": "display_data"
    }
   ],
   "source": [
    "plt.plot(error)"
   ]
  },
  {
   "cell_type": "code",
   "execution_count": 29,
   "metadata": {},
   "outputs": [
    {
     "data": {
      "text/plain": [
       "array([ 6.2515708 ,  6.08941671,  6.12900385,  6.12771238,  6.08973477,\n",
       "        6.06291961,  6.0437901 ,  6.06558806,  6.0239853 ,  6.80436261,\n",
       "        6.67307158,  7.30948153,  7.23590856,  7.5594422 ,  7.86599558,\n",
       "        7.4993997 ,  7.18005682,  6.76087393,  6.5759179 ,  7.0451731 ,\n",
       "        7.38992895,  7.01511783,  7.28424138,  7.32298093,  7.05142873,\n",
       "        9.09248824,  9.75937985, 10.30156502,  8.83899978,  8.62660673,\n",
       "        9.17324309,  7.79465153, 17.63134548,  8.64843621,  8.04936051,\n",
       "        8.90499076, 10.45880233, 13.38744571, 14.71403268, 16.80129487,\n",
       "       11.56089394, 13.14007786, 14.66480561, 11.26784741,  8.69474753,\n",
       "        9.30743632,  9.95119944,  9.12275408, 11.11407321, 13.1371758 ])"
      ]
     },
     "execution_count": 29,
     "metadata": {},
     "output_type": "execute_result"
    }
   ],
   "source": [
    "daily_params.loc[0].values[50:100]"
   ]
  },
  {
   "cell_type": "code",
   "execution_count": null,
   "metadata": {},
   "outputs": [],
   "source": []
  }
 ],
 "metadata": {
  "kernelspec": {
   "display_name": "Python 3",
   "language": "python",
   "name": "python3"
  },
  "language_info": {
   "codemirror_mode": {
    "name": "ipython",
    "version": 3
   },
   "file_extension": ".py",
   "mimetype": "text/x-python",
   "name": "python",
   "nbconvert_exporter": "python",
   "pygments_lexer": "ipython3",
   "version": "3.6.5"
  }
 },
 "nbformat": 4,
 "nbformat_minor": 2
}
